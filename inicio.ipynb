{
 "cells": [
  {
   "cell_type": "code",
   "execution_count": null,
   "metadata": {},
   "outputs": [],
   "source": [
    "from ast import Yield\n",
    "import matplotlib.pyplot as plt\n",
    "import glob\n",
    "import tensorflow as tf\n",
    "from skimage import io, color\n",
    "from skimage.io import imread_collection\n",
    "\n",
    "#your path\n",
    "train_dir = 'data/train/*.png'\n",
    "val_dir = 'data/validation/*.png'\n",
    "Y_train = np.loadtxt('data/train.csv', delimiter=',', skiprows=1, usecols=1)\n",
    "Y_val = np.loadtxt('data/validation.csv', delimiter=',', skiprows=1, usecols=1)\n",
    "#creating a collection with the available images\n",
    "train = imread_collection(train_dir)\n",
    "val = imread_collection(val_dir)\n",
    "\n",
    "# X = [color.rgb2gray(image).ravel() for image in train]\n",
    "X_train=[]\n",
    "for image in train:\n",
    "    grayscale_image = color.rgb2gray(image)\n",
    "    flattened_image = grayscale_image.ravel()\n",
    "\n",
    "    # Normalize pixel values to the range [0, 1]\n",
    "    normalized_image = (flattened_image - flattened_image.min()) / (flattened_image.max() - flattened_image.min())\n",
    "\n",
    "    X_train.append(normalized_image)\n",
    "X_train = np.array(X_train)\n",
    "X_val= []\n",
    "for image in val:\n",
    "    grayscale_image = color.rgb2gray(image)\n",
    "    flattened_image = grayscale_image.ravel()\n",
    "\n",
    "    # Normalize pixel values to the range [0, 1]\n",
    "    normalized_image = (flattened_image - flattened_image.min()) / (flattened_image.max() - flattened_image.min())\n",
    "\n",
    "    X_val.append(normalized_image)\n",
    "X_val = np.array(X_val)\n",
    "\n",
    "ni = X_train.shape[1]\n",
    "\n",
    "\n",
    "no = 6\n",
    "ni = X_train.shape[1]\n",
    "\n",
    "\n",
    "\n",
    "p = Red(ni,15,no)\n",
    "p.info(X_train,Y_train)\n",
    "p.train(X_train,Y_train,0.1,1000,500)\n"
   ]
  }
 ],
 "metadata": {
  "language_info": {
   "name": "python"
  }
 },
 "nbformat": 4,
 "nbformat_minor": 2
}
