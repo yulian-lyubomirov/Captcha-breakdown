{
 "cells": [
  {
   "cell_type": "code",
   "execution_count": null,
   "metadata": {},
   "outputs": [],
   "source": [
    "import tensorflow as tf\n",
    "import pandas as pd\n",
    "import numpy as np\n",
    "from tensorflow.keras import datasets, layers, models\n",
    "from functools import reduce\n",
    "import matplotlib.pyplot as plt\n",
    "from skimage import io, color\n",
    "from skimage.io import imread_collection\n",
    "from ast import Yield\n",
    "import matplotlib.pyplot as plt\n",
    "import glob\n",
    "import cv2\n",
    "import os\n",
    "import csv"
   ]
  },
  {
   "cell_type": "code",
   "execution_count": null,
   "metadata": {},
   "outputs": [],
   "source": [
    "height= 80\n",
    "width=200"
   ]
  },
  {
   "cell_type": "markdown",
   "metadata": {},
   "source": [
    "Cargamos los datos de tal manera que cada imagen la dividimos en 6 partes iguales para obtener al final imágenes que contengan un solo dígito en vez del captcha entero. También dividimos las etiquetas de cada captcha para obtener las etiquetas de las nuevas imágenes que contienen solo un dígito cada una."
   ]
  },
  {
   "cell_type": "code",
   "execution_count": null,
   "metadata": {},
   "outputs": [],
   "source": [
    "train_path = 'data/train/*.png'\n",
    "val_path = 'data/validation/*.png'\n",
    "y_path = 'data/train.csv'\n",
    "y_val_path ='data/validation.csv'\n",
    "Y_train = pd.read_csv(y_path, dtype=str)\n",
    "Y_val = pd.read_csv(y_val_path, dtype=str)\n",
    "train = imread_collection(train_path)\n",
    "val = imread_collection(val_path)\n",
    "Y_train_digits= []\n",
    "Y_val_digits = []\n",
    "Y_train['Label'] = Y_train['Label'].astype(str)\n",
    "Y_val['Label'] = Y_val['Label'].astype(str)\n",
    "list_id = Y_val['Id'].tolist()\n",
    "\n",
    "\n",
    "c =0\n",
    "window = 33\n",
    "X_train=[]\n",
    "X_val=[]\n",
    "X_val_digits=[]\n",
    "for image in train:\n",
    "\n",
    "    for x in range (1,7):\n",
    "        roi = image[0:height, window*(x-1):window*x]\n",
    "        grayscale_image = color.rgb2gray(roi)\n",
    "        flattened_image = grayscale_image.ravel()\n",
    "        normalized_image = (flattened_image - flattened_image.min()) / (flattened_image.max() - flattened_image.min())\n",
    "        Y_train_digits.append(Y_train['Label'].iloc[c][x-1])\n",
    "        X_train.append(normalized_image)\n",
    "        \n",
    "    c+=1\n",
    "c =0\n",
    "\n",
    "for image in val:\n",
    "    X_val.append(image)\n",
    "    \n",
    "    for x in range (1,7):\n",
    "        roi = image[0:80, window*(x-1):window*x]\n",
    "        grayscale_image = color.rgb2gray(roi)\n",
    "        flattened_image = grayscale_image.ravel()\n",
    "        normalized_image = (flattened_image - flattened_image.min()) / (flattened_image.max() - flattened_image.min())\n",
    "        Y_val_digits.append(Y_val['Label'].iloc[c][x-1])\n",
    "        X_val_digits.append(normalized_image)\n",
    "        \n",
    "    c+=1\n",
    "    \n",
    "X_train = np.array(X_train).reshape(-1, height, window, 1)\n",
    "X_val_digits =np.array(X_val_digits).reshape(-1, height, window, 1)\n",
    "Y_train_digits = pd.DataFrame(Y_train_digits, columns=['Label'])\n",
    "Y_val_digits = pd.DataFrame(Y_val_digits, columns=['Label'])"
   ]
  },
  {
   "cell_type": "markdown",
   "metadata": {},
   "source": [
    "Se observan los resultados del procesamiento de los datos tanto para los datos  de entrenamiento y de validación."
   ]
  },
  {
   "cell_type": "code",
   "execution_count": null,
   "metadata": {},
   "outputs": [],
   "source": [
    "plt.figure(figsize=(10,10))\n",
    "for i in range(36):\n",
    "    plt.subplot(6,6,i+1)\n",
    "    plt.xticks([])\n",
    "    plt.yticks([])\n",
    "    plt.grid(False)\n",
    "    plt.imshow(X_train[i])\n",
    "    label = Y_train_digits.iloc[i]['Label']\n",
    "    plt.title(f'Label is {label}')\n",
    "\n",
    "\n",
    "plt.show()"
   ]
  },
  {
   "cell_type": "code",
   "execution_count": null,
   "metadata": {},
   "outputs": [],
   "source": [
    "plt.figure(figsize=(10,10))\n",
    "for i in range(36):\n",
    "    plt.subplot(6,6,i+1)\n",
    "    plt.xticks([])\n",
    "    plt.yticks([])\n",
    "    plt.grid(False)\n",
    "    plt.imshow(X_val_digits[i])\n",
    "    label = Y_val_digits.iloc[i]['Label']\n",
    "    plt.title(f'Label is {label}')\n",
    "\n",
    "\n",
    "plt.show()"
   ]
  },
  {
   "cell_type": "code",
   "execution_count": null,
   "metadata": {},
   "outputs": [],
   "source": [
    "from sklearn.preprocessing import LabelEncoder, OneHotEncoder\n",
    "\n",
    "Y_train_labels = Y_train_digits['Label'].to_numpy()\n",
    "y_combine = LabelEncoder().fit_transform(Y_train_labels)\n",
    "y_one_hot = OneHotEncoder().fit_transform(y_combine.reshape(len(y_combine),1))"
   ]
  },
  {
   "cell_type": "markdown",
   "metadata": {},
   "source": [
    "Pasamos a representar las etiquetas (dígitos del 0 al 10) en forma de vectores binarios para adaptarlas al proceso de entrenamiento de nuestra red. "
   ]
  },
  {
   "cell_type": "code",
   "execution_count": null,
   "metadata": {},
   "outputs": [],
   "source": [
    "from keras.utils import to_categorical\n",
    "Y_train_one_hot = to_categorical(Y_train_digits)\n",
    "Y_val_one_hot = to_categorical(Y_val_digits)"
   ]
  },
  {
   "cell_type": "code",
   "execution_count": null,
   "metadata": {},
   "outputs": [],
   "source": [
    "print(Y_train_one_hot.shape)\n",
    "print(Y_val_one_hot.shape)"
   ]
  },
  {
   "cell_type": "code",
   "execution_count": null,
   "metadata": {},
   "outputs": [],
   "source": [
    "X_train= np.array(X_train)\n",
    "print(X_train.shape)\n",
    "print(X_val_digits.shape)\n"
   ]
  },
  {
   "cell_type": "markdown",
   "metadata": {},
   "source": [
    "Definición de la red neuronal convolucional (CNN) a través de Keras:\n",
    "\n",
    "La red consiste de 3 capas Conv2D + MaxPool2D con 64, 128 y 256 filtros respectivamente. Al final añadimos una capan Flatten para converir la salida de la capa Conv2D en un vector de 1 dimensión y otra capa Dense de 10 neuronas de las cuales cada una representa una de las posibles clases con la función de activación \"softmax\" para convertir el output en probabilidades.\n",
    "\n",
    "Esto es importante documentar, pues cuando la tenga bien bien lo relleno"
   ]
  },
  {
   "cell_type": "code",
   "execution_count": null,
   "metadata": {},
   "outputs": [],
   "source": [
    "from keras.models import Sequential\n",
    "from keras.layers import Dense, Conv2D, Flatten,MaxPooling2D,Dropout\n",
    "from keras.optimizers import Adam\n",
    "\n",
    "model = Sequential()\n",
    "model.add(Conv2D(64, kernel_size=3, activation='relu'))\n",
    "model.add(MaxPooling2D(pool_size=(2, 2),\n",
    "    strides=None,\n",
    "    padding='valid',))\n",
    "model.add(Conv2D(128, kernel_size=3, activation='relu'))\n",
    "model.add(MaxPooling2D(pool_size=(2, 2),\n",
    "    strides=None,\n",
    "    padding='valid',))\n",
    "model.add(Conv2D(256, kernel_size=3, activation='relu'))\n",
    "model.add(MaxPooling2D(pool_size=(2, 2),\n",
    "    strides=None,\n",
    "    padding='valid',))\n",
    "model.add(Flatten())\n",
    "# model.add(Dropout(0.2))\n",
    "model.add(Dense(10, activation='softmax'))"
   ]
  },
  {
   "cell_type": "code",
   "execution_count": null,
   "metadata": {},
   "outputs": [],
   "source": [
    "learning_rate = 0.001\n",
    "\n",
    "optimizer = Adam(learning_rate=learning_rate)\n",
    "model.compile(optimizer=optimizer, loss='categorical_crossentropy', metrics=['accuracy'])"
   ]
  },
  {
   "cell_type": "code",
   "execution_count": null,
   "metadata": {},
   "outputs": [],
   "source": [
    "model.summary()"
   ]
  },
  {
   "cell_type": "code",
   "execution_count": null,
   "metadata": {},
   "outputs": [],
   "source": [
    "model.fit(X_train, Y_train_one_hot, validation_data=(X_val_digits, Y_val_one_hot), epochs=7)"
   ]
  },
  {
   "cell_type": "code",
   "execution_count": null,
   "metadata": {},
   "outputs": [],
   "source": [
    "# from keras.models import save_model\n",
    "# from keras.models import load_model\n",
    "# model.save('model.keras')"
   ]
  },
  {
   "cell_type": "code",
   "execution_count": null,
   "metadata": {},
   "outputs": [],
   "source": [
    "loaded_model=load_model('model.keras')"
   ]
  },
  {
   "cell_type": "code",
   "execution_count": null,
   "metadata": {},
   "outputs": [],
   "source": [
    "loaded_model.summary()"
   ]
  },
  {
   "cell_type": "code",
   "execution_count": null,
   "metadata": {},
   "outputs": [],
   "source": [
    "\n",
    "aa=0\n",
    "output=[]\n",
    "captcha=[]\n",
    "id=0\n",
    "for example in X_val_digits:\n",
    "\n",
    "    pred = np.argmax(loaded_model.predict(example.reshape(1, 80, window, 1)))\n",
    "    captcha.append(pred)\n",
    "    \n",
    "    if aa == 5:\n",
    "        joined = ''.join(map(str, captcha))\n",
    "        output.append([list_id[id],joined])\n",
    "        captcha = []\n",
    "        aa = 0\n",
    "        id+=1\n",
    "    else:\n",
    "        aa += 1\n",
    "\n",
    "csv_file_path = \"output.csv\"\n",
    "with open(csv_file_path, mode='w', newline='') as file:\n",
    "    writer = csv.writer(file)\n",
    "    writer.writerow(['Id', 'Label'])\n",
    "    writer.writerows(output)\n",
    "\n",
    "    "
   ]
  },
  {
   "cell_type": "code",
   "execution_count": null,
   "metadata": {},
   "outputs": [],
   "source": [
    "list_id"
   ]
  }
 ],
 "metadata": {
  "kernelspec": {
   "display_name": "Python 3",
   "language": "python",
   "name": "python3"
  },
  "language_info": {
   "codemirror_mode": {
    "name": "ipython",
    "version": 3
   },
   "file_extension": ".py",
   "mimetype": "text/x-python",
   "name": "python",
   "nbconvert_exporter": "python",
   "pygments_lexer": "ipython3",
   "version": "3.8.18"
  }
 },
 "nbformat": 4,
 "nbformat_minor": 2
}
